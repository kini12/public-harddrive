{
 "cells": [
  {
   "cell_type": "code",
   "execution_count": 1,
   "id": "developed-christian",
   "metadata": {},
   "outputs": [],
   "source": [
    "import pandas as pd\n",
    "import matplotlib.pyplot as plt"
   ]
  },
  {
   "cell_type": "code",
   "execution_count": 2,
   "id": "textile-scale",
   "metadata": {},
   "outputs": [],
   "source": [
    "df = pd.read_csv(\"HD.csv\")"
   ]
  },
  {
   "cell_type": "code",
   "execution_count": 3,
   "id": "other-introduction",
   "metadata": {},
   "outputs": [],
   "source": [
    "df[\"date\"] = pd.to_datetime(df[\"date\"], format=\"%d.%m.%Y\")"
   ]
  },
  {
   "cell_type": "code",
   "execution_count": 4,
   "id": "optimum-location",
   "metadata": {},
   "outputs": [],
   "source": [
    "mask_iron = (df['product'] == \"IronWolf\")\n",
    "iron=df.loc[mask_iron]\n",
    "iron_s = iron.sort_values(by = \"price\", ascending = True).head(50)"
   ]
  },
  {
   "cell_type": "code",
   "execution_count": 5,
   "id": "occupational-annotation",
   "metadata": {},
   "outputs": [],
   "source": [
    "mask_wd = (df['product'] == \"Red Plus\") \n",
    "wd=df.loc[mask_wd]\n",
    "wd_s = wd.sort_values(by = \"price\", ascending = True).head(50)"
   ]
  },
  {
   "cell_type": "code",
   "execution_count": 6,
   "id": "composite-treasury",
   "metadata": {},
   "outputs": [],
   "source": [
    "x = wd_s[\"date\"]\n",
    "y = wd_s[\"capacity\"]\n",
    "z = wd_s[\"price\"]"
   ]
  },
  {
   "cell_type": "code",
   "execution_count": 7,
   "id": "documentary-breath",
   "metadata": {},
   "outputs": [],
   "source": [
    "x2 = iron_s[\"date\"]\n",
    "y2 = iron_s[\"capacity\"]\n",
    "z2 = iron_s[\"price\"]"
   ]
  },
  {
   "cell_type": "code",
   "execution_count": 9,
   "id": "protecting-theme",
   "metadata": {
    "scrolled": true
   },
   "outputs": [
    {
     "data": {
      "text/html": [
       "<div>\n",
       "<style scoped>\n",
       "    .dataframe tbody tr th:only-of-type {\n",
       "        vertical-align: middle;\n",
       "    }\n",
       "\n",
       "    .dataframe tbody tr th {\n",
       "        vertical-align: top;\n",
       "    }\n",
       "\n",
       "    .dataframe thead th {\n",
       "        text-align: right;\n",
       "    }\n",
       "</style>\n",
       "<table border=\"1\" class=\"dataframe\">\n",
       "  <thead>\n",
       "    <tr style=\"text-align: right;\">\n",
       "      <th></th>\n",
       "      <th>date</th>\n",
       "      <th>capacity</th>\n",
       "      <th>price</th>\n",
       "      <th>product</th>\n",
       "    </tr>\n",
       "  </thead>\n",
       "  <tbody>\n",
       "    <tr>\n",
       "      <th>2</th>\n",
       "      <td>2022-02-12</td>\n",
       "      <td>8</td>\n",
       "      <td>219.0</td>\n",
       "      <td>IronWolf</td>\n",
       "    </tr>\n",
       "    <tr>\n",
       "      <th>14</th>\n",
       "      <td>2022-02-13</td>\n",
       "      <td>8</td>\n",
       "      <td>219.0</td>\n",
       "      <td>IronWolf</td>\n",
       "    </tr>\n",
       "    <tr>\n",
       "      <th>26</th>\n",
       "      <td>2022-02-14</td>\n",
       "      <td>8</td>\n",
       "      <td>219.0</td>\n",
       "      <td>IronWolf</td>\n",
       "    </tr>\n",
       "    <tr>\n",
       "      <th>38</th>\n",
       "      <td>2022-02-15</td>\n",
       "      <td>8</td>\n",
       "      <td>219.0</td>\n",
       "      <td>IronWolf</td>\n",
       "    </tr>\n",
       "    <tr>\n",
       "      <th>50</th>\n",
       "      <td>2022-02-16</td>\n",
       "      <td>8</td>\n",
       "      <td>219.0</td>\n",
       "      <td>IronWolf</td>\n",
       "    </tr>\n",
       "    <tr>\n",
       "      <th>...</th>\n",
       "      <td>...</td>\n",
       "      <td>...</td>\n",
       "      <td>...</td>\n",
       "      <td>...</td>\n",
       "    </tr>\n",
       "    <tr>\n",
       "      <th>3038</th>\n",
       "      <td>2022-10-30</td>\n",
       "      <td>8</td>\n",
       "      <td>199.0</td>\n",
       "      <td>IronWolf</td>\n",
       "    </tr>\n",
       "    <tr>\n",
       "      <th>3050</th>\n",
       "      <td>2022-10-31</td>\n",
       "      <td>8</td>\n",
       "      <td>199.0</td>\n",
       "      <td>IronWolf</td>\n",
       "    </tr>\n",
       "    <tr>\n",
       "      <th>3062</th>\n",
       "      <td>2022-11-01</td>\n",
       "      <td>8</td>\n",
       "      <td>185.0</td>\n",
       "      <td>IronWolf</td>\n",
       "    </tr>\n",
       "    <tr>\n",
       "      <th>3074</th>\n",
       "      <td>2022-11-02</td>\n",
       "      <td>8</td>\n",
       "      <td>185.0</td>\n",
       "      <td>IronWolf</td>\n",
       "    </tr>\n",
       "    <tr>\n",
       "      <th>3086</th>\n",
       "      <td>2022-11-03</td>\n",
       "      <td>8</td>\n",
       "      <td>185.0</td>\n",
       "      <td>IronWolf</td>\n",
       "    </tr>\n",
       "  </tbody>\n",
       "</table>\n",
       "<p>258 rows × 4 columns</p>\n",
       "</div>"
      ],
      "text/plain": [
       "           date  capacity  price   product\n",
       "2    2022-02-12         8  219.0  IronWolf\n",
       "14   2022-02-13         8  219.0  IronWolf\n",
       "26   2022-02-14         8  219.0  IronWolf\n",
       "38   2022-02-15         8  219.0  IronWolf\n",
       "50   2022-02-16         8  219.0  IronWolf\n",
       "...         ...       ...    ...       ...\n",
       "3038 2022-10-30         8  199.0  IronWolf\n",
       "3050 2022-10-31         8  199.0  IronWolf\n",
       "3062 2022-11-01         8  185.0  IronWolf\n",
       "3074 2022-11-02         8  185.0  IronWolf\n",
       "3086 2022-11-03         8  185.0  IronWolf\n",
       "\n",
       "[258 rows x 4 columns]"
      ]
     },
     "execution_count": 9,
     "metadata": {},
     "output_type": "execute_result"
    }
   ],
   "source": [
    "mask_wd = (df['product'] == \"IronWolf\") & (df[\"capacity\"] == 8)\n",
    "wd=df.loc[mask_wd]\n",
    "wd.sort_values(by = \"price\", ascending = True).head(50)\n",
    "wd"
   ]
  },
  {
   "cell_type": "code",
   "execution_count": 10,
   "id": "stupid-array",
   "metadata": {},
   "outputs": [],
   "source": [
    "x = wd[\"date\"]\n",
    "y = wd[\"price\"]"
   ]
  },
  {
   "cell_type": "code",
   "execution_count": 11,
   "id": "likely-population",
   "metadata": {},
   "outputs": [
    {
     "data": {
      "image/png": "[encoded data removed]",
      "text/plain": [
       "<Figure size 720x432 with 1 Axes>"
      ]
     },
     "metadata": {
      "needs_background": "light"
     },
     "output_type": "display_data"
    }
   ],
   "source": [
    "fig, ax = plt.subplots(figsize=(10,6))\n",
    "\n",
    "ax.plot(x, y)\n",
    "\n",
    "ax.set(title=\"Price of HD 8 TO Western digital\", ylabel=\"price\")\n",
    "plt.setp(ax.get_xticklabels(), rotation=45)\n",
    "\n",
    "\n",
    "plt.show()"
   ]
  },
  {
   "cell_type": "code",
   "execution_count": 12,
   "id": "integral-lending",
   "metadata": {},
   "outputs": [],
   "source": [
    "# second chart"
   ]
  },
  {
   "cell_type": "code",
   "execution_count": 13,
   "id": "attempted-respect",
   "metadata": {
    "scrolled": true
   },
   "outputs": [
    {
     "data": {
      "text/html": [
       "<div>\n",
       "<style scoped>\n",
       "    .dataframe tbody tr th:only-of-type {\n",
       "        vertical-align: middle;\n",
       "    }\n",
       "\n",
       "    .dataframe tbody tr th {\n",
       "        vertical-align: top;\n",
       "    }\n",
       "\n",
       "    .dataframe thead th {\n",
       "        text-align: right;\n",
       "    }\n",
       "</style>\n",
       "<table border=\"1\" class=\"dataframe\">\n",
       "  <thead>\n",
       "    <tr style=\"text-align: right;\">\n",
       "      <th></th>\n",
       "      <th>date</th>\n",
       "      <th>capacity</th>\n",
       "      <th>price</th>\n",
       "      <th>product</th>\n",
       "    </tr>\n",
       "  </thead>\n",
       "  <tbody>\n",
       "    <tr>\n",
       "      <th>10</th>\n",
       "      <td>2022-02-12</td>\n",
       "      <td>12</td>\n",
       "      <td>339.0</td>\n",
       "      <td>Red Plus</td>\n",
       "    </tr>\n",
       "    <tr>\n",
       "      <th>22</th>\n",
       "      <td>2022-02-13</td>\n",
       "      <td>12</td>\n",
       "      <td>339.0</td>\n",
       "      <td>Red Plus</td>\n",
       "    </tr>\n",
       "    <tr>\n",
       "      <th>34</th>\n",
       "      <td>2022-02-14</td>\n",
       "      <td>12</td>\n",
       "      <td>339.0</td>\n",
       "      <td>Red Plus</td>\n",
       "    </tr>\n",
       "    <tr>\n",
       "      <th>46</th>\n",
       "      <td>2022-02-15</td>\n",
       "      <td>12</td>\n",
       "      <td>339.0</td>\n",
       "      <td>Red Plus</td>\n",
       "    </tr>\n",
       "    <tr>\n",
       "      <th>58</th>\n",
       "      <td>2022-02-16</td>\n",
       "      <td>12</td>\n",
       "      <td>339.0</td>\n",
       "      <td>Red Plus</td>\n",
       "    </tr>\n",
       "    <tr>\n",
       "      <th>...</th>\n",
       "      <td>...</td>\n",
       "      <td>...</td>\n",
       "      <td>...</td>\n",
       "      <td>...</td>\n",
       "    </tr>\n",
       "    <tr>\n",
       "      <th>3046</th>\n",
       "      <td>2022-10-30</td>\n",
       "      <td>12</td>\n",
       "      <td>300.0</td>\n",
       "      <td>Red Plus</td>\n",
       "    </tr>\n",
       "    <tr>\n",
       "      <th>3058</th>\n",
       "      <td>2022-10-31</td>\n",
       "      <td>12</td>\n",
       "      <td>300.0</td>\n",
       "      <td>Red Plus</td>\n",
       "    </tr>\n",
       "    <tr>\n",
       "      <th>3070</th>\n",
       "      <td>2022-11-01</td>\n",
       "      <td>12</td>\n",
       "      <td>300.0</td>\n",
       "      <td>Red Plus</td>\n",
       "    </tr>\n",
       "    <tr>\n",
       "      <th>3082</th>\n",
       "      <td>2022-11-02</td>\n",
       "      <td>12</td>\n",
       "      <td>300.0</td>\n",
       "      <td>Red Plus</td>\n",
       "    </tr>\n",
       "    <tr>\n",
       "      <th>3094</th>\n",
       "      <td>2022-11-03</td>\n",
       "      <td>12</td>\n",
       "      <td>300.0</td>\n",
       "      <td>Red Plus</td>\n",
       "    </tr>\n",
       "  </tbody>\n",
       "</table>\n",
       "<p>258 rows × 4 columns</p>\n",
       "</div>"
      ],
      "text/plain": [
       "           date  capacity  price   product\n",
       "10   2022-02-12        12  339.0  Red Plus\n",
       "22   2022-02-13        12  339.0  Red Plus\n",
       "34   2022-02-14        12  339.0  Red Plus\n",
       "46   2022-02-15        12  339.0  Red Plus\n",
       "58   2022-02-16        12  339.0  Red Plus\n",
       "...         ...       ...    ...       ...\n",
       "3046 2022-10-30        12  300.0  Red Plus\n",
       "3058 2022-10-31        12  300.0  Red Plus\n",
       "3070 2022-11-01        12  300.0  Red Plus\n",
       "3082 2022-11-02        12  300.0  Red Plus\n",
       "3094 2022-11-03        12  300.0  Red Plus\n",
       "\n",
       "[258 rows x 4 columns]"
      ]
     },
     "execution_count": 13,
     "metadata": {},
     "output_type": "execute_result"
    }
   ],
   "source": [
    "mask_wd = (df['product'] == \"Red Plus\") & (df[\"capacity\"] == 12)\n",
    "wd=df.loc[mask_wd]\n",
    "wd.sort_values(by = \"price\", ascending = True).head(50)\n",
    "wd"
   ]
  },
  {
   "cell_type": "code",
   "execution_count": 14,
   "id": "armed-marijuana",
   "metadata": {},
   "outputs": [],
   "source": [
    "x = wd[\"date\"]\n",
    "y = wd[\"price\"]"
   ]
  },
  {
   "cell_type": "code",
   "execution_count": 15,
   "id": "identical-gabriel",
   "metadata": {},
   "outputs": [
    {
     "data": {
      "image/png": "[encoded data removed]",
      "text/plain": [
       "<Figure size 720x432 with 1 Axes>"
      ]
     },
     "metadata": {
      "needs_background": "light"
     },
     "output_type": "display_data"
    }
   ],
   "source": [
    "fig, ax = plt.subplots(figsize=(10,6))\n",
    "\n",
    "ax.plot(x, y)\n",
    "\n",
    "ax.set(title=\"Price of HD 12 TO Red Plus digital\", ylabel=\"price\")\n",
    "plt.setp(ax.get_xticklabels(), rotation=45)\n",
    "\n",
    "\n",
    "plt.show()"
   ]
  }
 ],
 "metadata": {
  "kernelspec": {
   "display_name": "Python 3",
   "language": "python",
   "name": "python3"
  },
  "language_info": {
   "codemirror_mode": {
    "name": "ipython",
    "version": 3
   },
   "file_extension": ".py",
   "mimetype": "text/x-python",
   "name": "python",
   "nbconvert_exporter": "python",
   "pygments_lexer": "ipython3",
   "version": "3.9.2"
  }
 },
 "nbformat": 4,
 "nbformat_minor": 5
}
